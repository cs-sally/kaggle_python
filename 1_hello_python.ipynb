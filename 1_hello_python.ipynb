{
  "nbformat": 4,
  "nbformat_minor": 0,
  "metadata": {
    "colab": {
      "provenance": [],
      "authorship_tag": "ABX9TyMGGxQ0ndsxVFrY6FwdRFKQ",
      "include_colab_link": true
    },
    "kernelspec": {
      "name": "python3",
      "display_name": "Python 3"
    },
    "language_info": {
      "name": "python"
    }
  },
  "cells": [
    {
      "cell_type": "markdown",
      "metadata": {
        "id": "view-in-github",
        "colab_type": "text"
      },
      "source": [
        "<a href=\"https://colab.research.google.com/github/cs-sally/kaggle_python/blob/main/1_hello_python.ipynb\" target=\"_parent\"><img src=\"https://colab.research.google.com/assets/colab-badge.svg\" alt=\"Open In Colab\"/></a>"
      ]
    },
    {
      "cell_type": "markdown",
      "source": [
        "## Python ##\n",
        "### Hello, Python ###\n",
        "* Python: British comedy troup 'Monthly Python'\n",
        "\n",
        "#### Function calls ####\n",
        "* print(): functions displays the value on the screen\n",
        "* (): placed argument (input)\n",
        "\n",
        "#### Comment ####\n",
        "* '#' symbol for comment\n",
        "\n",
        "#### Assignment operator ####\n",
        "* '=' assignment or reassignment operator\n",
        "*right and left hand side"
      ],
      "metadata": {
        "id": "5T5Cf_o3B25Z"
      }
    },
    {
      "cell_type": "code",
      "execution_count": 2,
      "metadata": {
        "colab": {
          "base_uri": "https://localhost:8080/"
        },
        "id": "fHM80bZtBmG_",
        "outputId": "e3543330-1211-4f22-9822-ff935952588f"
      },
      "outputs": [
        {
          "output_type": "stream",
          "name": "stdout",
          "text": [
            "0\n",
            "But I don't want ANY spam!\n",
            "Spam Spam Spam Spam \n"
          ]
        }
      ],
      "source": [
        "spam_amount = 0\n",
        "print(spam_amount)\n",
        "\n",
        "spam_amount = spam_amount + 4\n",
        "\n",
        "if spam_amount > 0 :\n",
        "    print(\"But I don't want ANY spam!\")\n",
        "\n",
        "viking_song = \"Spam \" * spam_amount\n",
        "print(viking_song)\n"
      ]
    },
    {
      "cell_type": "code",
      "source": [
        "spam_amount = 0\n",
        "print(spam_amount)\n"
      ],
      "metadata": {
        "colab": {
          "base_uri": "https://localhost:8080/"
        },
        "id": "MM8kmVvnDMPB",
        "outputId": "efaa0f8e-d22e-4fc2-8820-a057aaba1089"
      },
      "execution_count": 3,
      "outputs": [
        {
          "output_type": "stream",
          "name": "stdout",
          "text": [
            "0\n"
          ]
        }
      ]
    },
    {
      "cell_type": "markdown",
      "source": [
        "#### Readiblity & Simplicity ####\n",
        "* Python is prioritize for its readability and the simplicity"
      ],
      "metadata": {
        "id": "0kLHiHN0FwyD"
      }
    },
    {
      "cell_type": "code",
      "source": [
        "if spam_amount > 0 :\n",
        "    print(\"But I don't want ANY spam!\")\n",
        "\n",
        "viking_song = \"Spam Spam Spam\"\n",
        "print(viking_song)\n"
      ],
      "metadata": {
        "colab": {
          "base_uri": "https://localhost:8080/"
        },
        "id": "nUzl20dEE0za",
        "outputId": "ce0360ef-f80d-45fc-b45e-a803f964bcf8"
      },
      "execution_count": null,
      "outputs": [
        {
          "output_type": "stream",
          "name": "stdout",
          "text": [
            "Spam Spam Spam\n"
          ]
        }
      ]
    },
    {
      "cell_type": "markdown",
      "source": [
        "#### Numbers and arithmetic in Python ####\n",
        "\n",
        "\n"
      ],
      "metadata": {
        "id": "bWFlT1w6GIgA"
      }
    },
    {
      "cell_type": "code",
      "source": [
        "spam_amount = 0"
      ],
      "metadata": {
        "id": "QGGQL82XRfjz"
      },
      "execution_count": 7,
      "outputs": []
    },
    {
      "cell_type": "markdown",
      "source": [
        "#### Integer and float ####\n",
        "Number: informal\n",
        "* Integer: technical, int\n",
        "* Float: technical, float: a number with a decimal place"
      ],
      "metadata": {
        "id": "NNt29qkuRpNY"
      }
    },
    {
      "cell_type": "code",
      "source": [
        "type(spam_amount)"
      ],
      "metadata": {
        "colab": {
          "base_uri": "https://localhost:8080/"
        },
        "id": "V357uiSNSDc5",
        "outputId": "fcfbb944-20dd-44e5-c790-84f1835fcac7"
      },
      "execution_count": 10,
      "outputs": [
        {
          "output_type": "execute_result",
          "data": {
            "text/plain": [
              "int"
            ]
          },
          "metadata": {},
          "execution_count": 10
        }
      ]
    },
    {
      "cell_type": "code",
      "source": [
        "type(19.95)"
      ],
      "metadata": {
        "colab": {
          "base_uri": "https://localhost:8080/"
        },
        "id": "TkuBQOeKSo0J",
        "outputId": "90164ceb-0aa6-4876-8e8f-67aa33943899"
      },
      "execution_count": 11,
      "outputs": [
        {
          "output_type": "execute_result",
          "data": {
            "text/plain": [
              "float"
            ]
          },
          "metadata": {},
          "execution_count": 11
        }
      ]
    },
    {
      "cell_type": "markdown",
      "source": [
        "#### Arithmetic ####\n",
        "* a / b : True division : Quotient of a and b\n",
        "* a // b : Floor division: Quotient of a and b, removing fractional parts\n",
        "* a % b: **Modulus: Integer remainder** after division of a by b\n",
        "* a ** b: Exponentiation: a raised to the power of b\n",
        "* -a : negation: The negative of a\n",
        "\n",
        "#### Python Division: True division ####\n",
        "* Python division is always True division\n",
        "* always Float"
      ],
      "metadata": {
        "id": "SIcJ8HqgS8d0"
      }
    },
    {
      "cell_type": "code",
      "source": [
        "print(5 / 2)\n",
        "print(6 / 2)\n",
        "print(5 // 2)\n",
        "print(6 // 2)"
      ],
      "metadata": {
        "colab": {
          "base_uri": "https://localhost:8080/"
        },
        "id": "J9L9GvheT4op",
        "outputId": "707546b2-19db-4a41-e80e-461b3048a1fe"
      },
      "execution_count": 13,
      "outputs": [
        {
          "output_type": "stream",
          "name": "stdout",
          "text": [
            "2.5\n",
            "3.0\n",
            "2\n",
            "3\n"
          ]
        }
      ]
    },
    {
      "cell_type": "markdown",
      "source": [
        "#### PEMDAS : Order of operations ####\n",
        "* **P**arentheses\n",
        "* **E**xponents\n",
        "* **M**ultiplication/Division\n",
        "* **A**ddition/Subtraction"
      ],
      "metadata": {
        "id": "KdmprcQWUeEq"
      }
    },
    {
      "cell_type": "code",
      "source": [
        "8 - 3 + 2"
      ],
      "metadata": {
        "colab": {
          "base_uri": "https://localhost:8080/"
        },
        "id": "3FKU525-Uy0j",
        "outputId": "6d43fcbd-9918-4613-f91f-e5218f5b7d9a"
      },
      "execution_count": 17,
      "outputs": [
        {
          "output_type": "execute_result",
          "data": {
            "text/plain": [
              "7"
            ]
          },
          "metadata": {},
          "execution_count": 17
        }
      ]
    },
    {
      "cell_type": "code",
      "source": [
        "-3 + 4 * 2"
      ],
      "metadata": {
        "colab": {
          "base_uri": "https://localhost:8080/"
        },
        "id": "OWX8R7NcU7yM",
        "outputId": "beb93958-ec9c-4df7-cb29-20555ce9a1ad"
      },
      "execution_count": 16,
      "outputs": [
        {
          "output_type": "execute_result",
          "data": {
            "text/plain": [
              "5"
            ]
          },
          "metadata": {},
          "execution_count": 16
        }
      ]
    },
    {
      "cell_type": "code",
      "source": [
        "hat_height_cm = 25\n",
        "my_height_cm = 190\n",
        "total_height_meters = (hat_height_cm + my_height_cm) / 100\n",
        "print(\"Height in meters =\", total_height_meters)"
      ],
      "metadata": {
        "colab": {
          "base_uri": "https://localhost:8080/"
        },
        "id": "DTBIcIDOVlA0",
        "outputId": "42d7e1aa-74b9-479f-8403-1899944c2656"
      },
      "execution_count": 18,
      "outputs": [
        {
          "output_type": "stream",
          "name": "stdout",
          "text": [
            "Height in meters = 2.15\n"
          ]
        }
      ]
    },
    {
      "cell_type": "markdown",
      "source": [
        "#### Builtin functions for working with numbers ####\n",
        "* mim() function: min of their argument\n",
        "* max() function: max of their argument\n",
        "* abs(): absolute value of an argument\n",
        "##### Type Casting in Builtin functions\n",
        "* float(): converting to float\n",
        "* Int(): converting to integer\n",
        "* String to number available"
      ],
      "metadata": {
        "id": "jkvpkUaOWFRJ"
      }
    },
    {
      "cell_type": "code",
      "source": [
        "print(min(1, 2, 3))\n",
        "print(max(1, 2, 3))\n",
        "print(abs(32))\n",
        "print(abs(-32))\n",
        "print(float(10))\n",
        "print(int(3.33))\n",
        "print(int('807') +1)"
      ],
      "metadata": {
        "colab": {
          "base_uri": "https://localhost:8080/"
        },
        "id": "Cn52PazHWZy3",
        "outputId": "bf57da99-4c9b-4813-c9fe-485aeee0fa00"
      },
      "execution_count": 21,
      "outputs": [
        {
          "output_type": "stream",
          "name": "stdout",
          "text": [
            "1\n",
            "3\n",
            "32\n",
            "32\n",
            "10.0\n",
            "3\n",
            "808\n"
          ]
        }
      ]
    },
    {
      "cell_type": "markdown",
      "source": [],
      "metadata": {
        "id": "x1TEI7S3WzOw"
      }
    }
  ]
}