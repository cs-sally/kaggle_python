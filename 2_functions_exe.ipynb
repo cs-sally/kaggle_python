{
  "nbformat": 4,
  "nbformat_minor": 0,
  "metadata": {
    "colab": {
      "provenance": [],
      "authorship_tag": "ABX9TyOJO8lfG2Z2y5rd6ScebuhA",
      "include_colab_link": true
    },
    "kernelspec": {
      "name": "python3",
      "display_name": "Python 3"
    },
    "language_info": {
      "name": "python"
    }
  },
  "cells": [
    {
      "cell_type": "markdown",
      "metadata": {
        "id": "view-in-github",
        "colab_type": "text"
      },
      "source": [
        "<a href=\"https://colab.research.google.com/github/cs-sally/kaggle_python/blob/main/2_functions_exe.ipynb\" target=\"_parent\"><img src=\"https://colab.research.google.com/assets/colab-badge.svg\" alt=\"Open In Colab\"/></a>"
      ]
    },
    {
      "cell_type": "markdown",
      "source": [
        "### Functions and Getting Help Excersise\n",
        "\n",
        "#### 1. Round: Builtin Function\n",
        "* pass: placeholder\n",
        "* pass: keyword for literally nothing\n",
        "* pass: because python requires at least one line of code in the code block\n",
        "* **docterster example \">>>\": in the docstring**\n",
        "*\">>>\" : primary prompt of the Python interactive shell(or interpreter) originally"
      ],
      "metadata": {
        "id": "JMHl9oRSl7V3"
      }
    },
    {
      "cell_type": "code",
      "execution_count": 1,
      "metadata": {
        "id": "igxxnPEtloNy"
      },
      "outputs": [],
      "source": [
        "def round_to_two_places(num):\n",
        "    \"\"\"Return the given number rounded to two decimal places.\n",
        "    >>> round_to_two_places(3.14159)\n",
        "    3.14\n",
        "    \"\"\"\n",
        "    pass\n",
        "    return round(num, 2)\n",
        ""
      ]
    },
    {
      "cell_type": "markdown",
      "source": [
        "#### 2. help(round): ndigits\n",
        "* help(round, ndigits)"
      ],
      "metadata": {
        "id": "ZmSDM5E3rhS1"
      }
    },
    {
      "cell_type": "code",
      "source": [
        "help(round)\n",
        "print(f\"round(12345, -1) = {round(12345, -1)}\")"
      ],
      "metadata": {
        "colab": {
          "base_uri": "https://localhost:8080/"
        },
        "id": "-YJqAQ3Pt7qh",
        "outputId": "3be2000f-3c09-423d-caca-4f992bc12a6f"
      },
      "execution_count": 4,
      "outputs": [
        {
          "output_type": "stream",
          "name": "stdout",
          "text": [
            "Help on built-in function round in module builtins:\n",
            "\n",
            "round(number, ndigits=None)\n",
            "    Round a number to a given precision in decimal digits.\n",
            "    \n",
            "    The return value is an integer if ndigits is omitted or None.  Otherwise\n",
            "    the return value has the same type as the number.  ndigits may be negative.\n",
            "\n",
            "round(12345, -1) = 12340\n"
          ]
        }
      ]
    },
    {
      "cell_type": "markdown",
      "source": [
        "#### 4. Second argument: Modulous in function\n",
        "* total candies and left over by dividing by n_friends\n"
      ],
      "metadata": {
        "id": "G7uIelL4vIWO"
      }
    },
    {
      "cell_type": "code",
      "source": [
        "def to_smash(total_candies, n_friends=3):\n",
        "    to_smash = total_candies % n_friends\n",
        "    return total_candies % n_friends"
      ],
      "metadata": {
        "id": "-CPGt_Lbp-ZY"
      },
      "execution_count": 7,
      "outputs": []
    },
    {
      "cell_type": "markdown",
      "source": [
        "#### 4. Reading Error messages\n",
        "* buggy code: read the code, predict when it's run\n",
        "* uncomment: remove #\n",
        "* fix code\n",
        "\n",
        "##### * Rounding floating numbers in python"
      ],
      "metadata": {
        "id": "dFznROwHxxCE"
      }
    },
    {
      "cell_type": "code",
      "source": [
        "def round_to_two_places(num):\n",
        "    return round(num, ndigits=2)\n",
        "print(round_to_two_places(9.9999))\n",
        "# 10.0 instead of 10.00: by default, Python's round() result in a whole number"
      ],
      "metadata": {
        "colab": {
          "base_uri": "https://localhost:8080/"
        },
        "id": "b_J17W-EyMSK",
        "outputId": "631530a7-e018-43c0-e25b-cba68d746105"
      },
      "execution_count": 13,
      "outputs": [
        {
          "output_type": "stream",
          "name": "stdout",
          "text": [
            "10.0\n"
          ]
        }
      ]
    },
    {
      "cell_type": "code",
      "source": [
        "x = -10\n",
        "y = 5\n",
        "smallest_abs = min(abs(x), abs(y))\n",
        "print(smallest_abs)"
      ],
      "metadata": {
        "colab": {
          "base_uri": "https://localhost:8080/"
        },
        "id": "T4I8qVFi3WI8",
        "outputId": "9974cbe6-ce92-451a-8537-feccbdb5850f"
      },
      "execution_count": 12,
      "outputs": [
        {
          "output_type": "stream",
          "name": "stdout",
          "text": [
            "5\n"
          ]
        }
      ]
    },
    {
      "cell_type": "code",
      "source": [
        "def f(x):\n",
        "    y = abs(x)\n",
        "    return abs(x)\n",
        "\n",
        "print(f(5))"
      ],
      "metadata": {
        "colab": {
          "base_uri": "https://localhost:8080/"
        },
        "id": "Hwr6sHmD32J-",
        "outputId": "77fc4a9c-0be1-4915-f017-5b14653b69d3"
      },
      "execution_count": 11,
      "outputs": [
        {
          "output_type": "stream",
          "name": "stdout",
          "text": [
            "5\n"
          ]
        }
      ]
    }
  ]
}