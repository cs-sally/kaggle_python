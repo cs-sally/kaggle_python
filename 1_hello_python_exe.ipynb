{
  "nbformat": 4,
  "nbformat_minor": 0,
  "metadata": {
    "colab": {
      "provenance": [],
      "authorship_tag": "ABX9TyPwqYYJuoS/UnT9p4HubV+b",
      "include_colab_link": true
    },
    "kernelspec": {
      "name": "python3",
      "display_name": "Python 3"
    },
    "language_info": {
      "name": "python"
    }
  },
  "cells": [
    {
      "cell_type": "markdown",
      "metadata": {
        "id": "view-in-github",
        "colab_type": "text"
      },
      "source": [
        "<a href=\"https://colab.research.google.com/github/cs-sally/kaggle_python/blob/main/1_hello_python_exe.ipynb\" target=\"_parent\"><img src=\"https://colab.research.google.com/assets/colab-badge.svg\" alt=\"Open In Colab\"/></a>"
      ]
    },
    {
      "cell_type": "markdown",
      "source": [
        "#### Collab keys\n",
        "* esc key: escape the cell\n",
        "* a key: adding a cell above\n",
        "* b key: adding a cell below\n",
        "* dd key: deleting a cell"
      ],
      "metadata": {
        "id": "mz1B-ykKKlmQ"
      }
    },
    {
      "cell_type": "code",
      "execution_count": null,
      "metadata": {
        "id": "OpanCbPacwFV"
      },
      "outputs": [],
      "source": [
        "# hello, python\n",
        "print(\"You've successfully run some Python code\")\n",
        "print(\"Congratulations!\")\n",
        "print(\"Setup complete! You're ready to start question 0.\")"
      ]
    },
    {
      "cell_type": "code",
      "source": [
        "# What is favorite color?\n",
        "color = \"blue\""
      ],
      "metadata": {
        "id": "gJT0bfD0MRNN"
      },
      "execution_count": 1,
      "outputs": []
    },
    {
      "cell_type": "code",
      "source": [
        "# 1. arithmetic operations\n",
        "pi = 3.14159\n",
        "diameter = 3\n",
        "\n",
        "# creating a 'radius' variable equal to half the diameter\n",
        "radius = diameter / 2\n",
        "\n",
        "# create a 'area' variable, using the formular for the area of a circle: pi times the radius squared\n",
        "area = radius **2 * pi\n"
      ],
      "metadata": {
        "id": "A9gnMbtPMUPx"
      },
      "execution_count": 2,
      "outputs": []
    },
    {
      "cell_type": "code",
      "source": [
        "# 2. swap variables a and b (vice versa)\n",
        "a = [1, 2, 3]\n",
        "b = [3, 2, 1]\n",
        "a, b = b, a\n"
      ],
      "metadata": {
        "id": "LaQS_5pONWqk"
      },
      "execution_count": 3,
      "outputs": []
    },
    {
      "cell_type": "markdown",
      "source": [],
      "metadata": {
        "id": "6L9Q2pceLZn_"
      }
    },
    {
      "cell_type": "code",
      "source": [
        "# 3a. floor division\n",
        "(5 - 3) // 2"
      ],
      "metadata": {
        "colab": {
          "base_uri": "https://localhost:8080/"
        },
        "id": "jZT2MEERKMm_",
        "outputId": "2cae22d6-55ba-4fa5-fb9c-61d0977e6970"
      },
      "execution_count": 4,
      "outputs": [
        {
          "output_type": "execute_result",
          "data": {
            "text/plain": [
              "1"
            ]
          },
          "metadata": {},
          "execution_count": 4
        }
      ]
    },
    {
      "cell_type": "code",
      "source": [
        "# 3b. to add parentheses to evaluate to 0\n",
        "(8 - 3) * (2 - (1 + 1))"
      ],
      "metadata": {
        "colab": {
          "base_uri": "https://localhost:8080/"
        },
        "id": "I2TCt7daPTq4",
        "outputId": "1fd5628f-70b1-4cc0-ddd7-7ed2e840f1d3"
      },
      "execution_count": 6,
      "outputs": [
        {
          "output_type": "execute_result",
          "data": {
            "text/plain": [
              "0"
            ]
          },
          "metadata": {},
          "execution_count": 6
        }
      ]
    },
    {
      "cell_type": "code",
      "source": [
        "# 4. Holloween candy pool, split, smash for given haul\n",
        "# * bring home: gain, pool: resources, split: divide, smash: remove, haul: obtained (ilegally)\n",
        "alice_candies = 121\n",
        "bob_candies = 77\n",
        "carol_candies = 109\n",
        "to_smash = (121 + 77 + 109) % 3\n",
        "\n"
      ],
      "metadata": {
        "id": "FTZvvskTSPXF"
      },
      "execution_count": 8,
      "outputs": []
    }
  ]
}