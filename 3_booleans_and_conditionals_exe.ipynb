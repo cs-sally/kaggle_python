{
  "nbformat": 4,
  "nbformat_minor": 0,
  "metadata": {
    "colab": {
      "provenance": [],
      "authorship_tag": "ABX9TyObq7Eanf7vUSDnZotbnbFh",
      "include_colab_link": true
    },
    "kernelspec": {
      "name": "python3",
      "display_name": "Python 3"
    },
    "language_info": {
      "name": "python"
    }
  },
  "cells": [
    {
      "cell_type": "markdown",
      "metadata": {
        "id": "view-in-github",
        "colab_type": "text"
      },
      "source": [
        "<a href=\"https://colab.research.google.com/github/cs-sally/machine_learning_python/blob/main/3_booleans_and_conditionals_exe.ipynb\" target=\"_parent\"><img src=\"https://colab.research.google.com/assets/colab-badge.svg\" alt=\"Open In Colab\"/></a>"
      ]
    },
    {
      "cell_type": "markdown",
      "source": [
        "#### 1. Difining 'sign' function ####\n",
        "\n",
        "* sign: Signum function (direction or polarity)\n",
        "* diefning python 'sign' function:\n",
        "* the numerical argument and returns: -1, 1, 0"
      ],
      "metadata": {
        "id": "tmmrYWBQ2SiR"
      }
    },
    {
      "cell_type": "code",
      "execution_count": 3,
      "metadata": {
        "id": "GqTHIRts1bdg"
      },
      "outputs": [],
      "source": [
        "def sign(x):\n",
        "    if x > 0 :\n",
        "      return 1\n",
        "    elif x < 0 :\n",
        "      return -1\n",
        "    else :\n",
        "      return 0"
      ]
    },
    {
      "cell_type": "markdown",
      "source": [
        "#### 2. How to show log : print() ####\n",
        "* print() function: Explicitly states it's a function, using backticks for code emphasis"
      ],
      "metadata": {
        "id": "xXkatgTT8Q6D"
      }
    },
    {
      "cell_type": "code",
      "source": [
        "def to_smash(total_candies):\n",
        "    \"\"\"Return the number of leftover candies that must be smashed after distributing the given number of candies evenly between 3 friends.\n",
        "\n",
        "    >>> to_smash(91)\n",
        "    1\n",
        "    \"\"\"\n",
        "\n",
        "    print(\"Splitting\", total_candies, \"candies\")\n",
        "    return total_candies % 3\n",
        "\n",
        "to_smash(91)\n"
      ],
      "metadata": {
        "colab": {
          "base_uri": "https://localhost:8080/"
        },
        "id": "bVvL1udR9NIj",
        "outputId": "997b6464-a778-49db-f5b8-40a084f6081f"
      },
      "execution_count": 7,
      "outputs": [
        {
          "output_type": "stream",
          "name": "stdout",
          "text": [
            "Splitting 91 candies\n"
          ]
        },
        {
          "output_type": "execute_result",
          "data": {
            "text/plain": [
              "1"
            ]
          },
          "metadata": {},
          "execution_count": 7
        }
      ]
    },
    {
      "cell_type": "markdown",
      "source": [
        "#### * return statement ####\n",
        "* purpose: output of function\n",
        "* **exit** of the function"
      ],
      "metadata": {
        "id": "7woQM2RoFlYI"
      }
    },
    {
      "cell_type": "code",
      "source": [
        "# 1 candies X : function block\n",
        "to_smash(1)"
      ],
      "metadata": {
        "colab": {
          "base_uri": "https://localhost:8080/"
        },
        "id": "WuaSMMwx_2CS",
        "outputId": "7928337b-1c05-4c48-d243-384f1e1bd343"
      },
      "execution_count": 8,
      "outputs": [
        {
          "output_type": "stream",
          "name": "stdout",
          "text": [
            "Splitting 1 candies\n"
          ]
        },
        {
          "output_type": "execute_result",
          "data": {
            "text/plain": [
              "1"
            ]
          },
          "metadata": {},
          "execution_count": 8
        }
      ]
    },
    {
      "cell_type": "code",
      "source": [
        "def to_smash(total_candies):\n",
        "  \"\"\"Retur the number of leftover candies that must be smashed after distributing the given number of candies evenly between 3 friends.\n",
        "\n",
        "  >>> to_smash(91)\n",
        "  1\n",
        "  \"\"\"\n",
        "  print(\"Splitting\", total_candies, \"candies\")\n",
        "  return total_candies % 3\n",
        "\n",
        "to_smash(91)\n",
        "to_smash(1)"
      ],
      "metadata": {
        "colab": {
          "base_uri": "https://localhost:8080/"
        },
        "id": "_RjWQaQoAHm9",
        "outputId": "1776c32e-1021-4620-bc42-cef45572406c"
      },
      "execution_count": 9,
      "outputs": [
        {
          "output_type": "stream",
          "name": "stdout",
          "text": [
            "Splitting 91 candies\n",
            "Splitting 1 candies\n"
          ]
        },
        {
          "output_type": "execute_result",
          "data": {
            "text/plain": [
              "1"
            ]
          },
          "metadata": {},
          "execution_count": 9
        }
      ]
    },
    {
      "cell_type": "markdown",
      "source": [
        "#### * function without return statement ####\n",
        "* not always need return"
      ],
      "metadata": {
        "id": "q1LpaKdTElpL"
      }
    },
    {
      "cell_type": "code",
      "source": [
        "# no return statement in function\n",
        "def greet(name):\n",
        "    print(f\"Hello, {name}!\") # This function only prints"
      ],
      "metadata": {
        "id": "EEfDw-VwFb8u"
      },
      "execution_count": 10,
      "outputs": []
    }
  ]
}