{
  "nbformat": 4,
  "nbformat_minor": 0,
  "metadata": {
    "colab": {
      "provenance": [],
      "authorship_tag": "ABX9TyNdoWcGGLCNwMt3yXcG9BFF",
      "include_colab_link": true
    },
    "kernelspec": {
      "name": "python3",
      "display_name": "Python 3"
    },
    "language_info": {
      "name": "python"
    }
  },
  "cells": [
    {
      "cell_type": "markdown",
      "metadata": {
        "id": "view-in-github",
        "colab_type": "text"
      },
      "source": [
        "<a href=\"https://colab.research.google.com/github/cs-sally/machine_learning_python/blob/main/3_booleans_and_conditionals.ipynb\" target=\"_parent\"><img src=\"https://colab.research.google.com/assets/colab-badge.svg\" alt=\"Open In Colab\"/></a>"
      ]
    },
    {
      "cell_type": "markdown",
      "source": [
        "### Booleans and Conditionals\n",
        "* Booleans: Types of Variable 'Bool'\n",
        "* Boolean Values: only 2 'True' and 'False'\n",
        "* variable types: numeric, boolean, sequence, set, mapping, None types"
      ],
      "metadata": {
        "id": "jFdMC6uUe1bK"
      }
    },
    {
      "cell_type": "code",
      "execution_count": null,
      "metadata": {
        "colab": {
          "base_uri": "https://localhost:8080/"
        },
        "id": "hIrophVKeSAf",
        "outputId": "5a5855e9-3efd-4831-cca4-51be7bffd677"
      },
      "outputs": [
        {
          "output_type": "stream",
          "name": "stdout",
          "text": [
            "True\n",
            "<class 'bool'>\n"
          ]
        }
      ],
      "source": [
        "x = True\n",
        "print(x)\n",
        "print(type(x))"
      ]
    },
    {
      "cell_type": "markdown",
      "source": [
        "#### Comparison operations\n",
        "* a == b: a equal to be\n",
        "* a!= b: a not equal to b\n",
        "* a < b a less than b\n",
        "* a > b : a greater than b\n",
        "* a <= b a less than or equal to b\n",
        "* a >= b : a greater than or equal to b"
      ],
      "metadata": {
        "id": "-h_OLjNbgZxl"
      }
    },
    {
      "cell_type": "code",
      "source": [
        "def can_run_for_president(age):\n",
        "    \"\"\"Can someone of  the given age run for president in the US?\"\"\"\n",
        "    # The US constitution says uou must be at least 35 years old\n",
        "    return age >= 35\n",
        "print(\"Can 1 19-year-old run for president?\" , can_run_for_president(19)) # return age >= 35 : False\n",
        "print(\"Can a 45-year-old run for president?\", can_run_for_president(45)) # return age >=45 : True\n"
      ],
      "metadata": {
        "colab": {
          "base_uri": "https://localhost:8080/"
        },
        "id": "In9MTWCfhLcV",
        "outputId": "1ac58e21-fbe9-4a1d-b905-06890644a382"
      },
      "execution_count": null,
      "outputs": [
        {
          "output_type": "stream",
          "name": "stdout",
          "text": [
            "Can 1 19-year-old run for president? False\n",
            "Can a 45-year-old run for president? True\n"
          ]
        }
      ]
    },
    {
      "cell_type": "code",
      "source": [
        "# Comparions for your hope\n",
        "3.0 == 3"
      ],
      "metadata": {
        "colab": {
          "base_uri": "https://localhost:8080/"
        },
        "id": "Hb3k3k_Sigt5",
        "outputId": "99692d64-7729-45be-842a-0138f91c3bc5"
      },
      "execution_count": null,
      "outputs": [
        {
          "output_type": "execute_result",
          "data": {
            "text/plain": [
              "True"
            ]
          },
          "metadata": {},
          "execution_count": 3
        }
      ]
    },
    {
      "cell_type": "code",
      "source": [
        "# Tricky comparison: data type inconsitency\n",
        "'3' == 3"
      ],
      "metadata": {
        "colab": {
          "base_uri": "https://localhost:8080/"
        },
        "id": "Ay_PE4cGis1D",
        "outputId": "ffa301d7-bc2e-439e-c777-64a8d3da7139"
      },
      "execution_count": null,
      "outputs": [
        {
          "output_type": "execute_result",
          "data": {
            "text/plain": [
              "False"
            ]
          },
          "metadata": {},
          "execution_count": 7
        }
      ]
    },
    {
      "cell_type": "code",
      "source": [
        "# Comparison operators and Arithmetic operators\n",
        "def is_odd(n):\n",
        "    return(n % 2) == 1\n",
        "\n",
        "print(\"Is 100 odd?\" , is_odd(100)) # return(100 % 2) == 1 False\n",
        "print(\"Is -1 odd?\" , is_odd(-1)) # return(-1 % 2) == 1 True"
      ],
      "metadata": {
        "colab": {
          "base_uri": "https://localhost:8080/"
        },
        "id": "JN3FxpvNj9zL",
        "outputId": "4e7565f1-b7a8-48b2-9035-ae570b967513"
      },
      "execution_count": null,
      "outputs": [
        {
          "output_type": "stream",
          "name": "stdout",
          "text": [
            "Is 100 odd? False\n",
            "Is -1 odd? True\n"
          ]
        }
      ]
    },
    {
      "cell_type": "markdown",
      "source": [
        "#### Double Equal Sign (Equality) and Single Equal Sign\n",
        "* **double sign: value of 'n == 2'**\n",
        "* **single sign: changing the value **\n",
        "\n",
        "#### Combining Boolean Values\n",
        "* and, or , not\n",
        "* giving more accuracy"
      ],
      "metadata": {
        "id": "zBwOcKWiidec"
      }
    },
    {
      "cell_type": "code",
      "source": [
        "def can_run_for_president(age, is_natural_born_citizen):\n",
        "    \"\"\"Can someone of the given age and citizenship status run for president in the US?\"\"\"\n",
        "    # The US Constitution says you ust be natural born citizen \"and\" at least 35 years old\n",
        "    return is_natural_born_citizen and (age >=35)\n",
        "print(can_run_for_president(19, True)) # return is_natural_born_citizen 'True' and age 'False': True and False: False\n",
        "print(can_run_for_president(55, False)) # return is_natural_born_citizen 'False' and age 'True': False and True: False\n",
        "print(can_run_for_president(55, True)) # return is_natural_born_citizen 'True' and age 'True': True and True: True"
      ],
      "metadata": {
        "colab": {
          "base_uri": "https://localhost:8080/"
        },
        "id": "LSGbO6uImK_N",
        "outputId": "893b797d-0098-4896-a9c5-e07874cc6378"
      },
      "execution_count": null,
      "outputs": [
        {
          "output_type": "stream",
          "name": "stdout",
          "text": [
            "False\n",
            "False\n",
            "True\n"
          ]
        }
      ]
    },
    {
      "cell_type": "code",
      "source": [
        "# order of precedence: use parentheses\n",
        "True or True and False"
      ],
      "metadata": {
        "colab": {
          "base_uri": "https://localhost:8080/"
        },
        "id": "CZv1IawnnysM",
        "outputId": "b0acadfc-9942-418b-ffe1-fdc9ee463de4"
      },
      "execution_count": null,
      "outputs": [
        {
          "output_type": "execute_result",
          "data": {
            "text/plain": [
              "True"
            ]
          },
          "metadata": {},
          "execution_count": 11
        }
      ]
    },
    {
      "cell_type": "markdown",
      "source": [
        "#### Prepare for the weather: Order of precedence: parentheses\n"
      ],
      "metadata": {
        "id": "xZxYK6Capi5r"
      }
    }
  ]
}